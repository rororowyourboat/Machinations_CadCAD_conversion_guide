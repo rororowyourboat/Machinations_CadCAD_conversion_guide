{
 "cells": [
  {
   "attachments": {},
   "cell_type": "markdown",
   "metadata": {},
   "source": [
    "# Run this file on a new environment with python 3.9 and this should download all the dependencies "
   ]
  },
  {
   "cell_type": "code",
   "execution_count": 1,
   "metadata": {},
   "outputs": [
    {
     "name": "stdout",
     "output_type": "stream",
     "text": [
      "Python 3.9.15\n"
     ]
    }
   ],
   "source": [
    "!python --version"
   ]
  },
  {
   "cell_type": "code",
   "execution_count": 2,
   "metadata": {},
   "outputs": [
    {
     "name": "stdout",
     "output_type": "stream",
     "text": [
      "Requirement already satisfied: radcad==0.8.4 in c:\\users\\e4roh\\anaconda3\\envs\\winky\\lib\\site-packages (from -r requirements.txt (line 1)) (0.8.4)\n",
      "Requirement already satisfied: pytest==6.2.2 in c:\\users\\e4roh\\anaconda3\\envs\\winky\\lib\\site-packages (from -r requirements.txt (line 2)) (6.2.2)\n",
      "Requirement already satisfied: ipykernel==5.5.3 in c:\\users\\e4roh\\anaconda3\\envs\\winky\\lib\\site-packages (from -r requirements.txt (line 3)) (5.5.3)\n",
      "Requirement already satisfied: matplotlib==3.3.4 in c:\\users\\e4roh\\anaconda3\\envs\\winky\\lib\\site-packages (from -r requirements.txt (line 4)) (3.3.4)\n",
      "Requirement already satisfied: plotly==4.14.3 in c:\\users\\e4roh\\anaconda3\\envs\\winky\\lib\\site-packages (from -r requirements.txt (line 5)) (4.14.3)\n",
      "Requirement already satisfied: stochastic==0.6.0 in c:\\users\\e4roh\\anaconda3\\envs\\winky\\lib\\site-packages (from -r requirements.txt (line 6)) (0.6.0)\n",
      "Requirement already satisfied: typing_extensions==3.7.4.3 in c:\\users\\e4roh\\anaconda3\\envs\\winky\\lib\\site-packages (from -r requirements.txt (line 7)) (3.7.4.3)\n",
      "Requirement already satisfied: black==20.8b1 in c:\\users\\e4roh\\anaconda3\\envs\\winky\\lib\\site-packages (from -r requirements.txt (line 8)) (20.8b1)\n",
      "Requirement already satisfied: ipython-autotime==0.3.1 in c:\\users\\e4roh\\anaconda3\\envs\\winky\\lib\\site-packages (from -r requirements.txt (line 9)) (0.3.1)\n",
      "Requirement already satisfied: jupyter-dash==0.4.0 in c:\\users\\e4roh\\anaconda3\\envs\\winky\\lib\\site-packages (from -r requirements.txt (line 10)) (0.4.0)\n",
      "Requirement already satisfied: jupyter-client==6.1.2 in c:\\users\\e4roh\\anaconda3\\envs\\winky\\lib\\site-packages (from -r requirements.txt (line 11)) (6.1.2)\n",
      "Requirement already satisfied: jupyterlab==3.0.17 in c:\\users\\e4roh\\anaconda3\\envs\\winky\\lib\\site-packages (from -r requirements.txt (line 12)) (3.0.17)\n",
      "Requirement already satisfied: ipywidgets==7.6.3 in c:\\users\\e4roh\\anaconda3\\envs\\winky\\lib\\site-packages (from -r requirements.txt (line 13)) (7.6.3)\n",
      "Requirement already satisfied: notebook==6.4.1 in c:\\users\\e4roh\\anaconda3\\envs\\winky\\lib\\site-packages (from -r requirements.txt (line 14)) (6.4.1)\n",
      "Requirement already satisfied: pdoc3==0.9.2 in c:\\users\\e4roh\\anaconda3\\envs\\winky\\lib\\site-packages (from -r requirements.txt (line 15)) (0.9.2)\n",
      "Requirement already satisfied: jupyter-book==0.11.1 in c:\\users\\e4roh\\anaconda3\\envs\\winky\\lib\\site-packages (from -r requirements.txt (line 16)) (0.11.1)\n",
      "Requirement already satisfied: psutil==5.8.0 in c:\\users\\e4roh\\anaconda3\\envs\\winky\\lib\\site-packages (from -r requirements.txt (line 17)) (5.8.0)\n",
      "Requirement already satisfied: kaleido==0.2.1 in c:\\users\\e4roh\\anaconda3\\envs\\winky\\lib\\site-packages (from -r requirements.txt (line 18)) (0.2.1)\n",
      "Requirement already satisfied: nbconvert==5.6.1 in c:\\users\\e4roh\\anaconda3\\envs\\winky\\lib\\site-packages (from -r requirements.txt (line 19)) (5.6.1)\n",
      "Requirement already satisfied: flask==2.0.0 in c:\\users\\e4roh\\anaconda3\\envs\\winky\\lib\\site-packages (from -r requirements.txt (line 20)) (2.0.0)\n",
      "Requirement already satisfied: gunicorn==20.1.0 in c:\\users\\e4roh\\anaconda3\\envs\\winky\\lib\\site-packages (from -r requirements.txt (line 21)) (20.1.0)\n",
      "Requirement already satisfied: cadCAD_tools==0.0.1.4 in c:\\users\\e4roh\\anaconda3\\envs\\winky\\lib\\site-packages (from -r requirements.txt (line 22)) (0.0.1.4)\n",
      "Requirement already satisfied: tqdm==4.61.0 in c:\\users\\e4roh\\anaconda3\\envs\\winky\\lib\\site-packages (from -r requirements.txt (line 23)) (4.61.0)\n",
      "Requirement already satisfied: diskcache==5.2.1 in c:\\users\\e4roh\\anaconda3\\envs\\winky\\lib\\site-packages (from -r requirements.txt (line 24)) (5.2.1)\n",
      "Requirement already satisfied: pylint==2.8.3 in c:\\users\\e4roh\\anaconda3\\envs\\winky\\lib\\site-packages (from -r requirements.txt (line 25)) (2.8.3)\n",
      "Requirement already satisfied: jupyterlab-spellchecker==0.6.0 in c:\\users\\e4roh\\anaconda3\\envs\\winky\\lib\\site-packages (from -r requirements.txt (line 26)) (0.6.0)\n",
      "Requirement already satisfied: pathos<0.3.0,>=0.2.7 in c:\\users\\e4roh\\anaconda3\\envs\\winky\\lib\\site-packages (from radcad==0.8.4->-r requirements.txt (line 1)) (0.2.9)\n",
      "Requirement already satisfied: pandas<2.0.0,>=1.0.0 in c:\\users\\e4roh\\anaconda3\\envs\\winky\\lib\\site-packages (from radcad==0.8.4->-r requirements.txt (line 1)) (1.5.2)\n",
      "Requirement already satisfied: pluggy<1.0.0a1,>=0.12 in c:\\users\\e4roh\\anaconda3\\envs\\winky\\lib\\site-packages (from pytest==6.2.2->-r requirements.txt (line 2)) (0.13.1)\n",
      "Requirement already satisfied: atomicwrites>=1.0 in c:\\users\\e4roh\\anaconda3\\envs\\winky\\lib\\site-packages (from pytest==6.2.2->-r requirements.txt (line 2)) (1.4.1)Note: you may need to restart the kernel to use updated packages.\n",
      "\n",
      "Requirement already satisfied: colorama in c:\\users\\e4roh\\anaconda3\\envs\\winky\\lib\\site-packages (from pytest==6.2.2->-r requirements.txt (line 2)) (0.4.6)\n",
      "Requirement already satisfied: iniconfig in c:\\users\\e4roh\\anaconda3\\envs\\winky\\lib\\site-packages (from pytest==6.2.2->-r requirements.txt (line 2)) (1.1.1)\n",
      "Requirement already satisfied: py>=1.8.2 in c:\\users\\e4roh\\anaconda3\\envs\\winky\\lib\\site-packages (from pytest==6.2.2->-r requirements.txt (line 2)) (1.11.0)\n",
      "Requirement already satisfied: attrs>=19.2.0 in c:\\users\\e4roh\\anaconda3\\envs\\winky\\lib\\site-packages (from pytest==6.2.2->-r requirements.txt (line 2)) (20.3.0)\n",
      "Requirement already satisfied: packaging in c:\\users\\e4roh\\anaconda3\\envs\\winky\\lib\\site-packages (from pytest==6.2.2->-r requirements.txt (line 2)) (22.0)\n",
      "Requirement already satisfied: toml in c:\\users\\e4roh\\anaconda3\\envs\\winky\\lib\\site-packages (from pytest==6.2.2->-r requirements.txt (line 2)) (0.10.2)\n",
      "Requirement already satisfied: tornado>=4.2 in c:\\users\\e4roh\\anaconda3\\envs\\winky\\lib\\site-packages (from ipykernel==5.5.3->-r requirements.txt (line 3)) (6.2)\n",
      "Requirement already satisfied: traitlets>=4.1.0 in c:\\users\\e4roh\\anaconda3\\envs\\winky\\lib\\site-packages (from ipykernel==5.5.3->-r requirements.txt (line 3)) (5.7.1)\n",
      "Requirement already satisfied: ipython>=5.0.0 in c:\\users\\e4roh\\anaconda3\\envs\\winky\\lib\\site-packages (from ipykernel==5.5.3->-r requirements.txt (line 3)) (8.7.0)\n",
      "Requirement already satisfied: pillow>=6.2.0 in c:\\users\\e4roh\\anaconda3\\envs\\winky\\lib\\site-packages (from matplotlib==3.3.4->-r requirements.txt (line 4)) (9.4.0)\n",
      "Requirement already satisfied: cycler>=0.10 in c:\\users\\e4roh\\anaconda3\\envs\\winky\\lib\\site-packages (from matplotlib==3.3.4->-r requirements.txt (line 4)) (0.11.0)\n",
      "Requirement already satisfied: python-dateutil>=2.1 in c:\\users\\e4roh\\anaconda3\\envs\\winky\\lib\\site-packages (from matplotlib==3.3.4->-r requirements.txt (line 4)) (2.8.2)\n",
      "Requirement already satisfied: kiwisolver>=1.0.1 in c:\\users\\e4roh\\anaconda3\\envs\\winky\\lib\\site-packages (from matplotlib==3.3.4->-r requirements.txt (line 4)) (1.4.4)\n",
      "Requirement already satisfied: numpy>=1.15 in c:\\users\\e4roh\\anaconda3\\envs\\winky\\lib\\site-packages (from matplotlib==3.3.4->-r requirements.txt (line 4)) (1.24.1)\n",
      "Requirement already satisfied: pyparsing!=2.0.4,!=2.1.2,!=2.1.6,>=2.0.3 in c:\\users\\e4roh\\anaconda3\\envs\\winky\\lib\\site-packages (from matplotlib==3.3.4->-r requirements.txt (line 4)) (3.0.9)\n",
      "Requirement already satisfied: six in c:\\users\\e4roh\\anaconda3\\envs\\winky\\lib\\site-packages (from plotly==4.14.3->-r requirements.txt (line 5)) (1.16.0)\n",
      "Requirement already satisfied: retrying>=1.3.3 in c:\\users\\e4roh\\anaconda3\\envs\\winky\\lib\\site-packages (from plotly==4.14.3->-r requirements.txt (line 5)) (1.3.4)\n",
      "Requirement already satisfied: scipy<2.0,>=1.3 in c:\\users\\e4roh\\anaconda3\\envs\\winky\\lib\\site-packages (from stochastic==0.6.0->-r requirements.txt (line 6)) (1.9.3)\n",
      "Requirement already satisfied: click>=7.1.2 in c:\\users\\e4roh\\anaconda3\\envs\\winky\\lib\\site-packages (from black==20.8b1->-r requirements.txt (line 8)) (8.1.3)\n",
      "Requirement already satisfied: typed-ast>=1.4.0 in c:\\users\\e4roh\\anaconda3\\envs\\winky\\lib\\site-packages (from black==20.8b1->-r requirements.txt (line 8)) (1.5.4)\n",
      "Requirement already satisfied: appdirs in c:\\users\\e4roh\\anaconda3\\envs\\winky\\lib\\site-packages (from black==20.8b1->-r requirements.txt (line 8)) (1.4.4)\n",
      "Requirement already satisfied: regex>=2020.1.8 in c:\\users\\e4roh\\anaconda3\\envs\\winky\\lib\\site-packages (from black==20.8b1->-r requirements.txt (line 8)) (2022.10.31)\n",
      "Requirement already satisfied: mypy-extensions>=0.4.3 in c:\\users\\e4roh\\anaconda3\\envs\\winky\\lib\\site-packages (from black==20.8b1->-r requirements.txt (line 8)) (0.4.3)\n",
      "Requirement already satisfied: pathspec<1,>=0.6 in c:\\users\\e4roh\\anaconda3\\envs\\winky\\lib\\site-packages (from black==20.8b1->-r requirements.txt (line 8)) (0.10.3)\n",
      "Requirement already satisfied: ansi2html in c:\\users\\e4roh\\anaconda3\\envs\\winky\\lib\\site-packages (from jupyter-dash==0.4.0->-r requirements.txt (line 10)) (1.8.0)\n",
      "Requirement already satisfied: dash in c:\\users\\e4roh\\anaconda3\\envs\\winky\\lib\\site-packages (from jupyter-dash==0.4.0->-r requirements.txt (line 10)) (1.21.0)\n",
      "Requirement already satisfied: requests in c:\\users\\e4roh\\anaconda3\\envs\\winky\\lib\\site-packages (from jupyter-dash==0.4.0->-r requirements.txt (line 10)) (2.28.1)\n",
      "Requirement already satisfied: jupyter-core>=4.6.0 in c:\\users\\e4roh\\anaconda3\\envs\\winky\\lib\\site-packages (from jupyter-client==6.1.2->-r requirements.txt (line 11)) (5.1.1)\n",
      "Requirement already satisfied: pyzmq>=13 in c:\\users\\e4roh\\anaconda3\\envs\\winky\\lib\\site-packages (from jupyter-client==6.1.2->-r requirements.txt (line 11)) (23.2.0)\n",
      "Requirement already satisfied: nbclassic~=0.2 in c:\\users\\e4roh\\anaconda3\\envs\\winky\\lib\\site-packages (from jupyterlab==3.0.17->-r requirements.txt (line 12)) (0.4.8)\n",
      "Requirement already satisfied: jupyter-server~=1.4 in c:\\users\\e4roh\\anaconda3\\envs\\winky\\lib\\site-packages (from jupyterlab==3.0.17->-r requirements.txt (line 12)) (1.15.6)\n",
      "Requirement already satisfied: jupyterlab-server~=2.3 in c:\\users\\e4roh\\anaconda3\\envs\\winky\\lib\\site-packages (from jupyterlab==3.0.17->-r requirements.txt (line 12)) (2.16.3)\n",
      "Requirement already satisfied: jinja2>=2.1 in c:\\users\\e4roh\\anaconda3\\envs\\winky\\lib\\site-packages (from jupyterlab==3.0.17->-r requirements.txt (line 12)) (3.1.2)\n",
      "Requirement already satisfied: nbformat>=4.2.0 in c:\\users\\e4roh\\anaconda3\\envs\\winky\\lib\\site-packages (from ipywidgets==7.6.3->-r requirements.txt (line 13)) (5.7.1)\n",
      "Requirement already satisfied: widgetsnbextension~=3.5.0 in c:\\users\\e4roh\\anaconda3\\envs\\winky\\lib\\site-packages (from ipywidgets==7.6.3->-r requirements.txt (line 13)) (3.5.2)\n",
      "Requirement already satisfied: jupyterlab-widgets>=1.0.0 in c:\\users\\e4roh\\anaconda3\\envs\\winky\\lib\\site-packages (from ipywidgets==7.6.3->-r requirements.txt (line 13)) (3.0.5)\n",
      "Requirement already satisfied: ipython-genutils in c:\\users\\e4roh\\anaconda3\\envs\\winky\\lib\\site-packages (from notebook==6.4.1->-r requirements.txt (line 14)) (0.2.0)\n",
      "Requirement already satisfied: argon2-cffi in c:\\users\\e4roh\\anaconda3\\envs\\winky\\lib\\site-packages (from notebook==6.4.1->-r requirements.txt (line 14)) (21.3.0)\n",
      "Requirement already satisfied: terminado>=0.8.3 in c:\\users\\e4roh\\anaconda3\\envs\\winky\\lib\\site-packages (from notebook==6.4.1->-r requirements.txt (line 14)) (0.17.1)\n",
      "Requirement already satisfied: Send2Trash>=1.5.0 in c:\\users\\e4roh\\anaconda3\\envs\\winky\\lib\\site-packages (from notebook==6.4.1->-r requirements.txt (line 14)) (1.8.0)\n",
      "Requirement already satisfied: prometheus-client in c:\\users\\e4roh\\anaconda3\\envs\\winky\\lib\\site-packages (from notebook==6.4.1->-r requirements.txt (line 14)) (0.15.0)\n",
      "Requirement already satisfied: mako in c:\\users\\e4roh\\anaconda3\\envs\\winky\\lib\\site-packages (from pdoc3==0.9.2->-r requirements.txt (line 15)) (1.2.4)\n",
      "Requirement already satisfied: markdown>=3.0 in c:\\users\\e4roh\\anaconda3\\envs\\winky\\lib\\site-packages (from pdoc3==0.9.2->-r requirements.txt (line 15)) (3.4.1)\n",
      "Requirement already satisfied: linkify-it-py~=1.0.1 in c:\\users\\e4roh\\anaconda3\\envs\\winky\\lib\\site-packages (from jupyter-book==0.11.1->-r requirements.txt (line 16)) (1.0.3)\n",
      "Requirement already satisfied: sphinxcontrib-bibtex~=2.2.0 in c:\\users\\e4roh\\anaconda3\\envs\\winky\\lib\\site-packages (from jupyter-book==0.11.1->-r requirements.txt (line 16)) (2.2.1)\n",
      "Requirement already satisfied: myst-nb~=0.12.0 in c:\\users\\e4roh\\anaconda3\\envs\\winky\\lib\\site-packages (from jupyter-book==0.11.1->-r requirements.txt (line 16)) (0.12.3)\n",
      "Requirement already satisfied: docutils<0.17,>=0.15 in c:\\users\\e4roh\\anaconda3\\envs\\winky\\lib\\site-packages (from jupyter-book==0.11.1->-r requirements.txt (line 16)) (0.16)\n",
      "Requirement already satisfied: sphinx-book-theme~=0.1.0 in c:\\users\\e4roh\\anaconda3\\envs\\winky\\lib\\site-packages (from jupyter-book==0.11.1->-r requirements.txt (line 16)) (0.1.10)\n",
      "Requirement already satisfied: sphinx<4,>=2 in c:\\users\\e4roh\\anaconda3\\envs\\winky\\lib\\site-packages (from jupyter-book==0.11.1->-r requirements.txt (line 16)) (3.5.4)\n",
      "Requirement already satisfied: pyyaml in c:\\users\\e4roh\\anaconda3\\envs\\winky\\lib\\site-packages (from jupyter-book==0.11.1->-r requirements.txt (line 16)) (6.0)\n",
      "Requirement already satisfied: sphinx-panels~=0.5.2 in c:\\users\\e4roh\\anaconda3\\envs\\winky\\lib\\site-packages (from jupyter-book==0.11.1->-r requirements.txt (line 16)) (0.5.2)\n",
      "Requirement already satisfied: sphinx-comments in c:\\users\\e4roh\\anaconda3\\envs\\winky\\lib\\site-packages (from jupyter-book==0.11.1->-r requirements.txt (line 16)) (0.0.3)\n",
      "Requirement already satisfied: sphinx-togglebutton in c:\\users\\e4roh\\anaconda3\\envs\\winky\\lib\\site-packages (from jupyter-book==0.11.1->-r requirements.txt (line 16)) (0.2.3)\n",
      "Requirement already satisfied: jupyterbook-latex~=0.3.1 in c:\\users\\e4roh\\anaconda3\\envs\\winky\\lib\\site-packages (from jupyter-book==0.11.1->-r requirements.txt (line 16)) (0.3.1)\n",
      "Requirement already satisfied: sphinx-copybutton in c:\\users\\e4roh\\anaconda3\\envs\\winky\\lib\\site-packages (from jupyter-book==0.11.1->-r requirements.txt (line 16)) (0.5.1)\n",
      "Requirement already satisfied: sphinx-thebe~=0.0.8 in c:\\users\\e4roh\\anaconda3\\envs\\winky\\lib\\site-packages (from jupyter-book==0.11.1->-r requirements.txt (line 16)) (0.0.10)\n",
      "Requirement already satisfied: jupytext<1.11,>=1.8 in c:\\users\\e4roh\\anaconda3\\envs\\winky\\lib\\site-packages (from jupyter-book==0.11.1->-r requirements.txt (line 16)) (1.10.3)\n",
      "Requirement already satisfied: sphinx-external-toc~=0.2.0 in c:\\users\\e4roh\\anaconda3\\envs\\winky\\lib\\site-packages (from jupyter-book==0.11.1->-r requirements.txt (line 16)) (0.2.4)\n",
      "Requirement already satisfied: jsonschema in c:\\users\\e4roh\\anaconda3\\envs\\winky\\lib\\site-packages (from jupyter-book==0.11.1->-r requirements.txt (line 16)) (4.17.3)\n",
      "Requirement already satisfied: pygments in c:\\users\\e4roh\\anaconda3\\envs\\winky\\lib\\site-packages (from nbconvert==5.6.1->-r requirements.txt (line 19)) (2.11.2)\n",
      "Requirement already satisfied: entrypoints>=0.2.2 in c:\\users\\e4roh\\anaconda3\\envs\\winky\\lib\\site-packages (from nbconvert==5.6.1->-r requirements.txt (line 19)) (0.4)\n",
      "Requirement already satisfied: pandocfilters>=1.4.1 in c:\\users\\e4roh\\anaconda3\\envs\\winky\\lib\\site-packages (from nbconvert==5.6.1->-r requirements.txt (line 19)) (1.5.0)\n",
      "Requirement already satisfied: testpath in c:\\users\\e4roh\\anaconda3\\envs\\winky\\lib\\site-packages (from nbconvert==5.6.1->-r requirements.txt (line 19)) (0.6.0)\n",
      "Requirement already satisfied: defusedxml in c:\\users\\e4roh\\anaconda3\\envs\\winky\\lib\\site-packages (from nbconvert==5.6.1->-r requirements.txt (line 19)) (0.7.1)\n",
      "Requirement already satisfied: bleach in c:\\users\\e4roh\\anaconda3\\envs\\winky\\lib\\site-packages (from nbconvert==5.6.1->-r requirements.txt (line 19)) (5.0.1)\n",
      "Requirement already satisfied: mistune<2,>=0.8.1 in c:\\users\\e4roh\\anaconda3\\envs\\winky\\lib\\site-packages (from nbconvert==5.6.1->-r requirements.txt (line 19)) (0.8.4)\n",
      "Requirement already satisfied: itsdangerous>=2.0 in c:\\users\\e4roh\\anaconda3\\envs\\winky\\lib\\site-packages (from flask==2.0.0->-r requirements.txt (line 20)) (2.1.2)\n",
      "Requirement already satisfied: Werkzeug>=2.0 in c:\\users\\e4roh\\anaconda3\\envs\\winky\\lib\\site-packages (from flask==2.0.0->-r requirements.txt (line 20)) (2.2.2)\n",
      "Requirement already satisfied: setuptools>=3.0 in c:\\users\\e4roh\\anaconda3\\envs\\winky\\lib\\site-packages (from gunicorn==20.1.0->-r requirements.txt (line 21)) (65.5.0)\n",
      "Requirement already satisfied: cadCAD in c:\\users\\e4roh\\anaconda3\\envs\\winky\\lib\\site-packages (from cadCAD_tools==0.0.1.4->-r requirements.txt (line 22)) (0.4.28)\n",
      "Requirement already satisfied: mccabe<0.7,>=0.6 in c:\\users\\e4roh\\anaconda3\\envs\\winky\\lib\\site-packages (from pylint==2.8.3->-r requirements.txt (line 25)) (0.6.1)\n",
      "Requirement already satisfied: astroid==2.5.6 in c:\\users\\e4roh\\anaconda3\\envs\\winky\\lib\\site-packages (from pylint==2.8.3->-r requirements.txt (line 25)) (2.5.6)\n",
      "Requirement already satisfied: isort<6,>=4.2.5 in c:\\users\\e4roh\\anaconda3\\envs\\winky\\lib\\site-packages (from pylint==2.8.3->-r requirements.txt (line 25)) (5.11.4)\n",
      "Requirement already satisfied: babel in c:\\users\\e4roh\\anaconda3\\envs\\winky\\lib\\site-packages (from jupyterlab-spellchecker==0.6.0->-r requirements.txt (line 26)) (2.11.0)\n",
      "Requirement already satisfied: lazy-object-proxy>=1.4.0 in c:\\users\\e4roh\\anaconda3\\envs\\winky\\lib\\site-packages (from astroid==2.5.6->pylint==2.8.3->-r requirements.txt (line 25)) (1.8.0)\n",
      "Requirement already satisfied: wrapt<1.13,>=1.11 in c:\\users\\e4roh\\anaconda3\\envs\\winky\\lib\\site-packages (from astroid==2.5.6->pylint==2.8.3->-r requirements.txt (line 25)) (1.12.1)\n",
      "Requirement already satisfied: matplotlib-inline in c:\\users\\e4roh\\anaconda3\\envs\\winky\\lib\\site-packages (from ipython>=5.0.0->ipykernel==5.5.3->-r requirements.txt (line 3)) (0.1.6)\n",
      "Requirement already satisfied: jedi>=0.16 in c:\\users\\e4roh\\anaconda3\\envs\\winky\\lib\\site-packages (from ipython>=5.0.0->ipykernel==5.5.3->-r requirements.txt (line 3)) (0.18.1)\n",
      "Requirement already satisfied: stack-data in c:\\users\\e4roh\\anaconda3\\envs\\winky\\lib\\site-packages (from ipython>=5.0.0->ipykernel==5.5.3->-r requirements.txt (line 3)) (0.2.0)\n",
      "Requirement already satisfied: backcall in c:\\users\\e4roh\\anaconda3\\envs\\winky\\lib\\site-packages (from ipython>=5.0.0->ipykernel==5.5.3->-r requirements.txt (line 3)) (0.2.0)\n",
      "Requirement already satisfied: decorator in c:\\users\\e4roh\\anaconda3\\envs\\winky\\lib\\site-packages (from ipython>=5.0.0->ipykernel==5.5.3->-r requirements.txt (line 3)) (5.1.1)\n",
      "Requirement already satisfied: pickleshare in c:\\users\\e4roh\\anaconda3\\envs\\winky\\lib\\site-packages (from ipython>=5.0.0->ipykernel==5.5.3->-r requirements.txt (line 3)) (0.7.5)\n",
      "Requirement already satisfied: prompt-toolkit<3.1.0,>=3.0.11 in c:\\users\\e4roh\\anaconda3\\envs\\winky\\lib\\site-packages (from ipython>=5.0.0->ipykernel==5.5.3->-r requirements.txt (line 3)) (3.0.36)\n",
      "Requirement already satisfied: MarkupSafe>=2.0 in c:\\users\\e4roh\\anaconda3\\envs\\winky\\lib\\site-packages (from jinja2>=2.1->jupyterlab==3.0.17->-r requirements.txt (line 12)) (2.1.1)\n",
      "Requirement already satisfied: platformdirs>=2.5 in c:\\users\\e4roh\\anaconda3\\envs\\winky\\lib\\site-packages (from jupyter-core>=4.6.0->jupyter-client==6.1.2->-r requirements.txt (line 11)) (2.5.2)\n",
      "Requirement already satisfied: pywin32>=1.0 in c:\\users\\e4roh\\anaconda3\\envs\\winky\\lib\\site-packages (from jupyter-core>=4.6.0->jupyter-client==6.1.2->-r requirements.txt (line 11)) (305.1)\n",
      "Requirement already satisfied: pywinpty in c:\\users\\e4roh\\anaconda3\\envs\\winky\\lib\\site-packages (from jupyter-server~=1.4->jupyterlab==3.0.17->-r requirements.txt (line 12)) (2.0.10)\n",
      "Requirement already satisfied: anyio>=3.1.0 in c:\\users\\e4roh\\anaconda3\\envs\\winky\\lib\\site-packages (from jupyter-server~=1.4->jupyterlab==3.0.17->-r requirements.txt (line 12)) (3.6.2)\n",
      "Requirement already satisfied: websocket-client in c:\\users\\e4roh\\anaconda3\\envs\\winky\\lib\\site-packages (from jupyter-server~=1.4->jupyterlab==3.0.17->-r requirements.txt (line 12)) (1.4.2)\n",
      "Requirement already satisfied: json5 in c:\\users\\e4roh\\anaconda3\\envs\\winky\\lib\\site-packages (from jupyterlab-server~=2.3->jupyterlab==3.0.17->-r requirements.txt (line 12)) (0.9.11)\n",
      "Requirement already satisfied: importlib-metadata>=4.8.3 in c:\\users\\e4roh\\anaconda3\\envs\\winky\\lib\\site-packages (from jupyterlab-server~=2.3->jupyterlab==3.0.17->-r requirements.txt (line 12)) (6.0.0)\n",
      "Requirement already satisfied: pyrsistent!=0.17.0,!=0.17.1,!=0.17.2,>=0.14.0 in c:\\users\\e4roh\\anaconda3\\envs\\winky\\lib\\site-packages (from jsonschema->jupyter-book==0.11.1->-r requirements.txt (line 16)) (0.19.3)\n",
      "Requirement already satisfied: markdown-it-py~=0.6.0 in c:\\users\\e4roh\\anaconda3\\envs\\winky\\lib\\site-packages (from jupytext<1.11,>=1.8->jupyter-book==0.11.1->-r requirements.txt (line 16)) (0.6.2)\n",
      "Requirement already satisfied: uc-micro-py in c:\\users\\e4roh\\anaconda3\\envs\\winky\\lib\\site-packages (from linkify-it-py~=1.0.1->jupyter-book==0.11.1->-r requirements.txt (line 16)) (1.0.1)\n",
      "Requirement already satisfied: jupyter-sphinx~=0.3.2 in c:\\users\\e4roh\\anaconda3\\envs\\winky\\lib\\site-packages (from myst-nb~=0.12.0->jupyter-book==0.11.1->-r requirements.txt (line 16)) (0.3.2)\n",
      "Requirement already satisfied: jupyter-cache~=0.4.1 in c:\\users\\e4roh\\anaconda3\\envs\\winky\\lib\\site-packages (from myst-nb~=0.12.0->jupyter-book==0.11.1->-r requirements.txt (line 16)) (0.4.3)\n",
      "Requirement already satisfied: myst-parser~=0.13.5 in c:\\users\\e4roh\\anaconda3\\envs\\winky\\lib\\site-packages (from myst-nb~=0.12.0->jupyter-book==0.11.1->-r requirements.txt (line 16)) (0.13.7)\n",
      "Requirement already satisfied: nest-asyncio>=1.5 in c:\\users\\e4roh\\anaconda3\\envs\\winky\\lib\\site-packages (from nbclassic~=0.2->jupyterlab==3.0.17->-r requirements.txt (line 12)) (1.5.6)\n",
      "Requirement already satisfied: notebook-shim>=0.1.0 in c:\\users\\e4roh\\anaconda3\\envs\\winky\\lib\\site-packages (from nbclassic~=0.2->jupyterlab==3.0.17->-r requirements.txt (line 12)) (0.2.2)\n",
      "Requirement already satisfied: fastjsonschema in c:\\users\\e4roh\\anaconda3\\envs\\winky\\lib\\site-packages (from nbformat>=4.2.0->ipywidgets==7.6.3->-r requirements.txt (line 13)) (2.16.2)\n",
      "Requirement already satisfied: pytz>=2020.1 in c:\\users\\e4roh\\anaconda3\\envs\\winky\\lib\\site-packages (from pandas<2.0.0,>=1.0.0->radcad==0.8.4->-r requirements.txt (line 1)) (2022.7)\n",
      "Requirement already satisfied: ppft>=1.7.6.5 in c:\\users\\e4roh\\anaconda3\\envs\\winky\\lib\\site-packages (from pathos<0.3.0,>=0.2.7->radcad==0.8.4->-r requirements.txt (line 1)) (1.7.6.6)\n",
      "Requirement already satisfied: dill>=0.3.5.1 in c:\\users\\e4roh\\anaconda3\\envs\\winky\\lib\\site-packages (from pathos<0.3.0,>=0.2.7->radcad==0.8.4->-r requirements.txt (line 1)) (0.3.6)\n",
      "Requirement already satisfied: multiprocess>=0.70.13 in c:\\users\\e4roh\\anaconda3\\envs\\winky\\lib\\site-packages (from pathos<0.3.0,>=0.2.7->radcad==0.8.4->-r requirements.txt (line 1)) (0.70.14)\n",
      "Requirement already satisfied: pox>=0.3.1 in c:\\users\\e4roh\\anaconda3\\envs\\winky\\lib\\site-packages (from pathos<0.3.0,>=0.2.7->radcad==0.8.4->-r requirements.txt (line 1)) (0.3.2)\n",
      "Requirement already satisfied: sphinxcontrib-qthelp in c:\\users\\e4roh\\anaconda3\\envs\\winky\\lib\\site-packages (from sphinx<4,>=2->jupyter-book==0.11.1->-r requirements.txt (line 16)) (1.0.3)\n",
      "Requirement already satisfied: snowballstemmer>=1.1 in c:\\users\\e4roh\\anaconda3\\envs\\winky\\lib\\site-packages (from sphinx<4,>=2->jupyter-book==0.11.1->-r requirements.txt (line 16)) (2.2.0)\n",
      "Requirement already satisfied: sphinxcontrib-jsmath in c:\\users\\e4roh\\anaconda3\\envs\\winky\\lib\\site-packages (from sphinx<4,>=2->jupyter-book==0.11.1->-r requirements.txt (line 16)) (1.0.1)\n",
      "Requirement already satisfied: alabaster<0.8,>=0.7 in c:\\users\\e4roh\\anaconda3\\envs\\winky\\lib\\site-packages (from sphinx<4,>=2->jupyter-book==0.11.1->-r requirements.txt (line 16)) (0.7.12)\n",
      "Requirement already satisfied: sphinxcontrib-devhelp in c:\\users\\e4roh\\anaconda3\\envs\\winky\\lib\\site-packages (from sphinx<4,>=2->jupyter-book==0.11.1->-r requirements.txt (line 16)) (1.0.2)\n",
      "Requirement already satisfied: sphinxcontrib-serializinghtml in c:\\users\\e4roh\\anaconda3\\envs\\winky\\lib\\site-packages (from sphinx<4,>=2->jupyter-book==0.11.1->-r requirements.txt (line 16)) (1.1.5)\n",
      "Requirement already satisfied: sphinxcontrib-htmlhelp in c:\\users\\e4roh\\anaconda3\\envs\\winky\\lib\\site-packages (from sphinx<4,>=2->jupyter-book==0.11.1->-r requirements.txt (line 16)) (2.0.0)\n",
      "Requirement already satisfied: sphinxcontrib-applehelp in c:\\users\\e4roh\\anaconda3\\envs\\winky\\lib\\site-packages (from sphinx<4,>=2->jupyter-book==0.11.1->-r requirements.txt (line 16)) (1.0.2)\n",
      "Requirement already satisfied: imagesize in c:\\users\\e4roh\\anaconda3\\envs\\winky\\lib\\site-packages (from sphinx<4,>=2->jupyter-book==0.11.1->-r requirements.txt (line 16)) (1.4.1)\n",
      "Requirement already satisfied: certifi>=2017.4.17 in c:\\users\\e4roh\\anaconda3\\envs\\winky\\lib\\site-packages (from requests->jupyter-dash==0.4.0->-r requirements.txt (line 10)) (2022.12.7)\n",
      "Requirement already satisfied: charset-normalizer<3,>=2 in c:\\users\\e4roh\\anaconda3\\envs\\winky\\lib\\site-packages (from requests->jupyter-dash==0.4.0->-r requirements.txt (line 10)) (2.1.1)\n",
      "Requirement already satisfied: urllib3<1.27,>=1.21.1 in c:\\users\\e4roh\\anaconda3\\envs\\winky\\lib\\site-packages (from requests->jupyter-dash==0.4.0->-r requirements.txt (line 10)) (1.26.13)\n",
      "Requirement already satisfied: idna<4,>=2.5 in c:\\users\\e4roh\\anaconda3\\envs\\winky\\lib\\site-packages (from requests->jupyter-dash==0.4.0->-r requirements.txt (line 10)) (3.4)\n",
      "Requirement already satisfied: pydata-sphinx-theme~=0.7.2 in c:\\users\\e4roh\\anaconda3\\envs\\winky\\lib\\site-packages (from sphinx-book-theme~=0.1.0->jupyter-book==0.11.1->-r requirements.txt (line 16)) (0.7.2)\n",
      "Requirement already satisfied: beautifulsoup4<5,>=4.6.1 in c:\\users\\e4roh\\anaconda3\\envs\\winky\\lib\\site-packages (from sphinx-book-theme~=0.1.0->jupyter-book==0.11.1->-r requirements.txt (line 16)) (4.11.1)\n",
      "Requirement already satisfied: wheel in c:\\users\\e4roh\\anaconda3\\envs\\winky\\lib\\site-packages (from sphinx-togglebutton->jupyter-book==0.11.1->-r requirements.txt (line 16)) (0.37.1)\n",
      "Requirement already satisfied: pybtex-docutils>=1.0.0 in c:\\users\\e4roh\\anaconda3\\envs\\winky\\lib\\site-packages (from sphinxcontrib-bibtex~=2.2.0->jupyter-book==0.11.1->-r requirements.txt (line 16)) (1.0.2)\n",
      "Requirement already satisfied: pybtex>=0.20 in c:\\users\\e4roh\\anaconda3\\envs\\winky\\lib\\site-packages (from sphinxcontrib-bibtex~=2.2.0->jupyter-book==0.11.1->-r requirements.txt (line 16)) (0.24.0)\n",
      "Requirement already satisfied: argon2-cffi-bindings in c:\\users\\e4roh\\anaconda3\\envs\\winky\\lib\\site-packages (from argon2-cffi->notebook==6.4.1->-r requirements.txt (line 14)) (21.2.0)\n",
      "Requirement already satisfied: webencodings in c:\\users\\e4roh\\anaconda3\\envs\\winky\\lib\\site-packages (from bleach->nbconvert==5.6.1->-r requirements.txt (line 19)) (0.5.1)\n",
      "Requirement already satisfied: funcy in c:\\users\\e4roh\\anaconda3\\envs\\winky\\lib\\site-packages (from cadCAD->cadCAD_tools==0.0.1.4->-r requirements.txt (line 22)) (1.17)\n",
      "Requirement already satisfied: fn in c:\\users\\e4roh\\anaconda3\\envs\\winky\\lib\\site-packages (from cadCAD->cadCAD_tools==0.0.1.4->-r requirements.txt (line 22)) (0.4.3)\n",
      "Requirement already satisfied: flask-compress in c:\\users\\e4roh\\anaconda3\\envs\\winky\\lib\\site-packages (from dash->jupyter-dash==0.4.0->-r requirements.txt (line 10)) (1.13)\n",
      "Requirement already satisfied: dash-table==4.12.0 in c:\\users\\e4roh\\anaconda3\\envs\\winky\\lib\\site-packages (from dash->jupyter-dash==0.4.0->-r requirements.txt (line 10)) (4.12.0)\n",
      "Requirement already satisfied: future in c:\\users\\e4roh\\anaconda3\\envs\\winky\\lib\\site-packages (from dash->jupyter-dash==0.4.0->-r requirements.txt (line 10)) (0.18.2)\n",
      "Requirement already satisfied: dash-core-components==1.17.1 in c:\\users\\e4roh\\anaconda3\\envs\\winky\\lib\\site-packages (from dash->jupyter-dash==0.4.0->-r requirements.txt (line 10)) (1.17.1)\n",
      "Requirement already satisfied: dash-html-components==1.1.4 in c:\\users\\e4roh\\anaconda3\\envs\\winky\\lib\\site-packages (from dash->jupyter-dash==0.4.0->-r requirements.txt (line 10)) (1.1.4)\n",
      "Requirement already satisfied: sniffio>=1.1 in c:\\users\\e4roh\\anaconda3\\envs\\winky\\lib\\site-packages (from anyio>=3.1.0->jupyter-server~=1.4->jupyterlab==3.0.17->-r requirements.txt (line 12)) (1.3.0)\n",
      "Requirement already satisfied: soupsieve>1.2 in c:\\users\\e4roh\\anaconda3\\envs\\winky\\lib\\site-packages (from beautifulsoup4<5,>=4.6.1->sphinx-book-theme~=0.1.0->jupyter-book==0.11.1->-r requirements.txt (line 16)) (2.3.2.post1)\n",
      "Requirement already satisfied: zipp>=0.5 in c:\\users\\e4roh\\anaconda3\\envs\\winky\\lib\\site-packages (from importlib-metadata>=4.8.3->jupyterlab-server~=2.3->jupyterlab==3.0.17->-r requirements.txt (line 12)) (3.11.0)\n",
      "Requirement already satisfied: parso<0.9.0,>=0.8.0 in c:\\users\\e4roh\\anaconda3\\envs\\winky\\lib\\site-packages (from jedi>=0.16->ipython>=5.0.0->ipykernel==5.5.3->-r requirements.txt (line 3)) (0.8.3)\n",
      "Requirement already satisfied: sqlalchemy<1.5,>=1.3.12 in c:\\users\\e4roh\\anaconda3\\envs\\winky\\lib\\site-packages (from jupyter-cache~=0.4.1->myst-nb~=0.12.0->jupyter-book==0.11.1->-r requirements.txt (line 16)) (1.4.45)\n",
      "Requirement already satisfied: nbclient<0.6,>=0.2 in c:\\users\\e4roh\\anaconda3\\envs\\winky\\lib\\site-packages (from jupyter-cache~=0.4.1->myst-nb~=0.12.0->jupyter-book==0.11.1->-r requirements.txt (line 16)) (0.4.0)\n",
      "Requirement already satisfied: nbdime in c:\\users\\e4roh\\anaconda3\\envs\\winky\\lib\\site-packages (from jupyter-cache~=0.4.1->myst-nb~=0.12.0->jupyter-book==0.11.1->-r requirements.txt (line 16)) (3.1.1)\n",
      "Requirement already satisfied: mdit-py-plugins~=0.2.1 in c:\\users\\e4roh\\anaconda3\\envs\\winky\\lib\\site-packages (from markdown-it-py~=0.6.0->jupytext<1.11,>=1.8->jupyter-book==0.11.1->-r requirements.txt (line 16)) (0.2.6)\n",
      "Requirement already satisfied: wcwidth in c:\\users\\e4roh\\anaconda3\\envs\\winky\\lib\\site-packages (from prompt-toolkit<3.1.0,>=3.0.11->ipython>=5.0.0->ipykernel==5.5.3->-r requirements.txt (line 3)) (0.2.5)\n",
      "Requirement already satisfied: latexcodec>=1.0.4 in c:\\users\\e4roh\\anaconda3\\envs\\winky\\lib\\site-packages (from pybtex>=0.20->sphinxcontrib-bibtex~=2.2.0->jupyter-book==0.11.1->-r requirements.txt (line 16)) (2.0.1)\n",
      "Requirement already satisfied: cffi>=1.0.1 in c:\\users\\e4roh\\anaconda3\\envs\\winky\\lib\\site-packages (from argon2-cffi-bindings->argon2-cffi->notebook==6.4.1->-r requirements.txt (line 14)) (1.15.1)\n",
      "Requirement already satisfied: brotli in c:\\users\\e4roh\\anaconda3\\envs\\winky\\lib\\site-packages (from flask-compress->dash->jupyter-dash==0.4.0->-r requirements.txt (line 10)) (1.0.9)\n",
      "Requirement already satisfied: executing in c:\\users\\e4roh\\anaconda3\\envs\\winky\\lib\\site-packages (from stack-data->ipython>=5.0.0->ipykernel==5.5.3->-r requirements.txt (line 3)) (0.8.3)\n",
      "Requirement already satisfied: asttokens in c:\\users\\e4roh\\anaconda3\\envs\\winky\\lib\\site-packages (from stack-data->ipython>=5.0.0->ipykernel==5.5.3->-r requirements.txt (line 3)) (2.0.5)\n",
      "Requirement already satisfied: pure-eval in c:\\users\\e4roh\\anaconda3\\envs\\winky\\lib\\site-packages (from stack-data->ipython>=5.0.0->ipykernel==5.5.3->-r requirements.txt (line 3)) (0.2.2)\n",
      "Requirement already satisfied: pycparser in c:\\users\\e4roh\\anaconda3\\envs\\winky\\lib\\site-packages (from cffi>=1.0.1->argon2-cffi-bindings->argon2-cffi->notebook==6.4.1->-r requirements.txt (line 14)) (2.21)\n",
      "Requirement already satisfied: async-generator in c:\\users\\e4roh\\anaconda3\\envs\\winky\\lib\\site-packages (from nbclient<0.6,>=0.2->jupyter-cache~=0.4.1->myst-nb~=0.12.0->jupyter-book==0.11.1->-r requirements.txt (line 16)) (1.10)\n",
      "Requirement already satisfied: greenlet!=0.4.17 in c:\\users\\e4roh\\anaconda3\\envs\\winky\\lib\\site-packages (from sqlalchemy<1.5,>=1.3.12->jupyter-cache~=0.4.1->myst-nb~=0.12.0->jupyter-book==0.11.1->-r requirements.txt (line 16)) (2.0.1)\n",
      "Requirement already satisfied: GitPython!=2.1.4,!=2.1.5,!=2.1.6 in c:\\users\\e4roh\\anaconda3\\envs\\winky\\lib\\site-packages (from nbdime->jupyter-cache~=0.4.1->myst-nb~=0.12.0->jupyter-book==0.11.1->-r requirements.txt (line 16)) (3.1.30)\n",
      "Requirement already satisfied: jupyter-server-mathjax>=0.2.2 in c:\\users\\e4roh\\anaconda3\\envs\\winky\\lib\\site-packages (from nbdime->jupyter-cache~=0.4.1->myst-nb~=0.12.0->jupyter-book==0.11.1->-r requirements.txt (line 16)) (0.2.6)\n",
      "Requirement already satisfied: gitdb<5,>=4.0.1 in c:\\users\\e4roh\\anaconda3\\envs\\winky\\lib\\site-packages (from GitPython!=2.1.4,!=2.1.5,!=2.1.6->nbdime->jupyter-cache~=0.4.1->myst-nb~=0.12.0->jupyter-book==0.11.1->-r requirements.txt (line 16)) (4.0.10)\n",
      "Requirement already satisfied: smmap<6,>=3.0.1 in c:\\users\\e4roh\\anaconda3\\envs\\winky\\lib\\site-packages (from gitdb<5,>=4.0.1->GitPython!=2.1.4,!=2.1.5,!=2.1.6->nbdime->jupyter-cache~=0.4.1->myst-nb~=0.12.0->jupyter-book==0.11.1->-r requirements.txt (line 16)) (5.0.0)\n"
     ]
    }
   ],
   "source": [
    "%pip install -r requirements.txt"
   ]
  },
  {
   "cell_type": "code",
   "execution_count": 3,
   "metadata": {},
   "outputs": [
    {
     "name": "stdout",
     "output_type": "stream",
     "text": [
      "Name: radcad\n",
      "Version: 0.8.4\n",
      "Summary: A Python package for dynamical systems modelling & simulation, inspired by and compatible with cadCAD\n",
      "Home-page: \n",
      "Author: CADLabs\n",
      "Author-email: benschza@users.noreply.github.com\n",
      "License: \n",
      "Location: c:\\users\\e4roh\\anaconda3\\envs\\winky\\lib\\site-packages\n",
      "Requires: pandas, pathos\n",
      "Required-by: \n",
      "Note: you may need to restart the kernel to use updated packages.\n"
     ]
    }
   ],
   "source": [
    "%pip show radcad"
   ]
  },
  {
   "cell_type": "code",
   "execution_count": 4,
   "metadata": {},
   "outputs": [],
   "source": [
    "import radcad"
   ]
  },
  {
   "cell_type": "code",
   "execution_count": 5,
   "metadata": {},
   "outputs": [
    {
     "data": {
      "application/vnd.plotly.v1+json": {
       "config": {
        "plotlyServerURL": "https://plot.ly"
       },
       "data": [
        {
         "hovertemplate": "x=%{x}<br>y=%{y}<extra></extra>",
         "legendgroup": "",
         "line": {
          "color": "#636efa",
          "dash": "solid"
         },
         "mode": "lines",
         "name": "",
         "orientation": "v",
         "showlegend": false,
         "type": "scatter",
         "x": [
          0,
          1,
          2
         ],
         "xaxis": "x",
         "y": [
          0,
          1,
          2
         ],
         "yaxis": "y"
        }
       ],
       "layout": {
        "legend": {
         "tracegroupgap": 0
        },
        "margin": {
         "t": 60
        },
        "template": {
         "data": {
          "bar": [
           {
            "error_x": {
             "color": "#2a3f5f"
            },
            "error_y": {
             "color": "#2a3f5f"
            },
            "marker": {
             "line": {
              "color": "#E5ECF6",
              "width": 0.5
             }
            },
            "type": "bar"
           }
          ],
          "barpolar": [
           {
            "marker": {
             "line": {
              "color": "#E5ECF6",
              "width": 0.5
             }
            },
            "type": "barpolar"
           }
          ],
          "carpet": [
           {
            "aaxis": {
             "endlinecolor": "#2a3f5f",
             "gridcolor": "white",
             "linecolor": "white",
             "minorgridcolor": "white",
             "startlinecolor": "#2a3f5f"
            },
            "baxis": {
             "endlinecolor": "#2a3f5f",
             "gridcolor": "white",
             "linecolor": "white",
             "minorgridcolor": "white",
             "startlinecolor": "#2a3f5f"
            },
            "type": "carpet"
           }
          ],
          "choropleth": [
           {
            "colorbar": {
             "outlinewidth": 0,
             "ticks": ""
            },
            "type": "choropleth"
           }
          ],
          "contour": [
           {
            "colorbar": {
             "outlinewidth": 0,
             "ticks": ""
            },
            "colorscale": [
             [
              0,
              "#0d0887"
             ],
             [
              0.1111111111111111,
              "#46039f"
             ],
             [
              0.2222222222222222,
              "#7201a8"
             ],
             [
              0.3333333333333333,
              "#9c179e"
             ],
             [
              0.4444444444444444,
              "#bd3786"
             ],
             [
              0.5555555555555556,
              "#d8576b"
             ],
             [
              0.6666666666666666,
              "#ed7953"
             ],
             [
              0.7777777777777778,
              "#fb9f3a"
             ],
             [
              0.8888888888888888,
              "#fdca26"
             ],
             [
              1,
              "#f0f921"
             ]
            ],
            "type": "contour"
           }
          ],
          "contourcarpet": [
           {
            "colorbar": {
             "outlinewidth": 0,
             "ticks": ""
            },
            "type": "contourcarpet"
           }
          ],
          "heatmap": [
           {
            "colorbar": {
             "outlinewidth": 0,
             "ticks": ""
            },
            "colorscale": [
             [
              0,
              "#0d0887"
             ],
             [
              0.1111111111111111,
              "#46039f"
             ],
             [
              0.2222222222222222,
              "#7201a8"
             ],
             [
              0.3333333333333333,
              "#9c179e"
             ],
             [
              0.4444444444444444,
              "#bd3786"
             ],
             [
              0.5555555555555556,
              "#d8576b"
             ],
             [
              0.6666666666666666,
              "#ed7953"
             ],
             [
              0.7777777777777778,
              "#fb9f3a"
             ],
             [
              0.8888888888888888,
              "#fdca26"
             ],
             [
              1,
              "#f0f921"
             ]
            ],
            "type": "heatmap"
           }
          ],
          "heatmapgl": [
           {
            "colorbar": {
             "outlinewidth": 0,
             "ticks": ""
            },
            "colorscale": [
             [
              0,
              "#0d0887"
             ],
             [
              0.1111111111111111,
              "#46039f"
             ],
             [
              0.2222222222222222,
              "#7201a8"
             ],
             [
              0.3333333333333333,
              "#9c179e"
             ],
             [
              0.4444444444444444,
              "#bd3786"
             ],
             [
              0.5555555555555556,
              "#d8576b"
             ],
             [
              0.6666666666666666,
              "#ed7953"
             ],
             [
              0.7777777777777778,
              "#fb9f3a"
             ],
             [
              0.8888888888888888,
              "#fdca26"
             ],
             [
              1,
              "#f0f921"
             ]
            ],
            "type": "heatmapgl"
           }
          ],
          "histogram": [
           {
            "marker": {
             "colorbar": {
              "outlinewidth": 0,
              "ticks": ""
             }
            },
            "type": "histogram"
           }
          ],
          "histogram2d": [
           {
            "colorbar": {
             "outlinewidth": 0,
             "ticks": ""
            },
            "colorscale": [
             [
              0,
              "#0d0887"
             ],
             [
              0.1111111111111111,
              "#46039f"
             ],
             [
              0.2222222222222222,
              "#7201a8"
             ],
             [
              0.3333333333333333,
              "#9c179e"
             ],
             [
              0.4444444444444444,
              "#bd3786"
             ],
             [
              0.5555555555555556,
              "#d8576b"
             ],
             [
              0.6666666666666666,
              "#ed7953"
             ],
             [
              0.7777777777777778,
              "#fb9f3a"
             ],
             [
              0.8888888888888888,
              "#fdca26"
             ],
             [
              1,
              "#f0f921"
             ]
            ],
            "type": "histogram2d"
           }
          ],
          "histogram2dcontour": [
           {
            "colorbar": {
             "outlinewidth": 0,
             "ticks": ""
            },
            "colorscale": [
             [
              0,
              "#0d0887"
             ],
             [
              0.1111111111111111,
              "#46039f"
             ],
             [
              0.2222222222222222,
              "#7201a8"
             ],
             [
              0.3333333333333333,
              "#9c179e"
             ],
             [
              0.4444444444444444,
              "#bd3786"
             ],
             [
              0.5555555555555556,
              "#d8576b"
             ],
             [
              0.6666666666666666,
              "#ed7953"
             ],
             [
              0.7777777777777778,
              "#fb9f3a"
             ],
             [
              0.8888888888888888,
              "#fdca26"
             ],
             [
              1,
              "#f0f921"
             ]
            ],
            "type": "histogram2dcontour"
           }
          ],
          "mesh3d": [
           {
            "colorbar": {
             "outlinewidth": 0,
             "ticks": ""
            },
            "type": "mesh3d"
           }
          ],
          "parcoords": [
           {
            "line": {
             "colorbar": {
              "outlinewidth": 0,
              "ticks": ""
             }
            },
            "type": "parcoords"
           }
          ],
          "pie": [
           {
            "automargin": true,
            "type": "pie"
           }
          ],
          "scatter": [
           {
            "marker": {
             "colorbar": {
              "outlinewidth": 0,
              "ticks": ""
             }
            },
            "type": "scatter"
           }
          ],
          "scatter3d": [
           {
            "line": {
             "colorbar": {
              "outlinewidth": 0,
              "ticks": ""
             }
            },
            "marker": {
             "colorbar": {
              "outlinewidth": 0,
              "ticks": ""
             }
            },
            "type": "scatter3d"
           }
          ],
          "scattercarpet": [
           {
            "marker": {
             "colorbar": {
              "outlinewidth": 0,
              "ticks": ""
             }
            },
            "type": "scattercarpet"
           }
          ],
          "scattergeo": [
           {
            "marker": {
             "colorbar": {
              "outlinewidth": 0,
              "ticks": ""
             }
            },
            "type": "scattergeo"
           }
          ],
          "scattergl": [
           {
            "marker": {
             "colorbar": {
              "outlinewidth": 0,
              "ticks": ""
             }
            },
            "type": "scattergl"
           }
          ],
          "scattermapbox": [
           {
            "marker": {
             "colorbar": {
              "outlinewidth": 0,
              "ticks": ""
             }
            },
            "type": "scattermapbox"
           }
          ],
          "scatterpolar": [
           {
            "marker": {
             "colorbar": {
              "outlinewidth": 0,
              "ticks": ""
             }
            },
            "type": "scatterpolar"
           }
          ],
          "scatterpolargl": [
           {
            "marker": {
             "colorbar": {
              "outlinewidth": 0,
              "ticks": ""
             }
            },
            "type": "scatterpolargl"
           }
          ],
          "scatterternary": [
           {
            "marker": {
             "colorbar": {
              "outlinewidth": 0,
              "ticks": ""
             }
            },
            "type": "scatterternary"
           }
          ],
          "surface": [
           {
            "colorbar": {
             "outlinewidth": 0,
             "ticks": ""
            },
            "colorscale": [
             [
              0,
              "#0d0887"
             ],
             [
              0.1111111111111111,
              "#46039f"
             ],
             [
              0.2222222222222222,
              "#7201a8"
             ],
             [
              0.3333333333333333,
              "#9c179e"
             ],
             [
              0.4444444444444444,
              "#bd3786"
             ],
             [
              0.5555555555555556,
              "#d8576b"
             ],
             [
              0.6666666666666666,
              "#ed7953"
             ],
             [
              0.7777777777777778,
              "#fb9f3a"
             ],
             [
              0.8888888888888888,
              "#fdca26"
             ],
             [
              1,
              "#f0f921"
             ]
            ],
            "type": "surface"
           }
          ],
          "table": [
           {
            "cells": {
             "fill": {
              "color": "#EBF0F8"
             },
             "line": {
              "color": "white"
             }
            },
            "header": {
             "fill": {
              "color": "#C8D4E3"
             },
             "line": {
              "color": "white"
             }
            },
            "type": "table"
           }
          ]
         },
         "layout": {
          "annotationdefaults": {
           "arrowcolor": "#2a3f5f",
           "arrowhead": 0,
           "arrowwidth": 1
          },
          "autotypenumbers": "strict",
          "coloraxis": {
           "colorbar": {
            "outlinewidth": 0,
            "ticks": ""
           }
          },
          "colorscale": {
           "diverging": [
            [
             0,
             "#8e0152"
            ],
            [
             0.1,
             "#c51b7d"
            ],
            [
             0.2,
             "#de77ae"
            ],
            [
             0.3,
             "#f1b6da"
            ],
            [
             0.4,
             "#fde0ef"
            ],
            [
             0.5,
             "#f7f7f7"
            ],
            [
             0.6,
             "#e6f5d0"
            ],
            [
             0.7,
             "#b8e186"
            ],
            [
             0.8,
             "#7fbc41"
            ],
            [
             0.9,
             "#4d9221"
            ],
            [
             1,
             "#276419"
            ]
           ],
           "sequential": [
            [
             0,
             "#0d0887"
            ],
            [
             0.1111111111111111,
             "#46039f"
            ],
            [
             0.2222222222222222,
             "#7201a8"
            ],
            [
             0.3333333333333333,
             "#9c179e"
            ],
            [
             0.4444444444444444,
             "#bd3786"
            ],
            [
             0.5555555555555556,
             "#d8576b"
            ],
            [
             0.6666666666666666,
             "#ed7953"
            ],
            [
             0.7777777777777778,
             "#fb9f3a"
            ],
            [
             0.8888888888888888,
             "#fdca26"
            ],
            [
             1,
             "#f0f921"
            ]
           ],
           "sequentialminus": [
            [
             0,
             "#0d0887"
            ],
            [
             0.1111111111111111,
             "#46039f"
            ],
            [
             0.2222222222222222,
             "#7201a8"
            ],
            [
             0.3333333333333333,
             "#9c179e"
            ],
            [
             0.4444444444444444,
             "#bd3786"
            ],
            [
             0.5555555555555556,
             "#d8576b"
            ],
            [
             0.6666666666666666,
             "#ed7953"
            ],
            [
             0.7777777777777778,
             "#fb9f3a"
            ],
            [
             0.8888888888888888,
             "#fdca26"
            ],
            [
             1,
             "#f0f921"
            ]
           ]
          },
          "colorway": [
           "#636efa",
           "#EF553B",
           "#00cc96",
           "#ab63fa",
           "#FFA15A",
           "#19d3f3",
           "#FF6692",
           "#B6E880",
           "#FF97FF",
           "#FECB52"
          ],
          "font": {
           "color": "#2a3f5f"
          },
          "geo": {
           "bgcolor": "white",
           "lakecolor": "white",
           "landcolor": "#E5ECF6",
           "showlakes": true,
           "showland": true,
           "subunitcolor": "white"
          },
          "hoverlabel": {
           "align": "left"
          },
          "hovermode": "closest",
          "mapbox": {
           "style": "light"
          },
          "paper_bgcolor": "white",
          "plot_bgcolor": "#E5ECF6",
          "polar": {
           "angularaxis": {
            "gridcolor": "white",
            "linecolor": "white",
            "ticks": ""
           },
           "bgcolor": "#E5ECF6",
           "radialaxis": {
            "gridcolor": "white",
            "linecolor": "white",
            "ticks": ""
           }
          },
          "scene": {
           "xaxis": {
            "backgroundcolor": "#E5ECF6",
            "gridcolor": "white",
            "gridwidth": 2,
            "linecolor": "white",
            "showbackground": true,
            "ticks": "",
            "zerolinecolor": "white"
           },
           "yaxis": {
            "backgroundcolor": "#E5ECF6",
            "gridcolor": "white",
            "gridwidth": 2,
            "linecolor": "white",
            "showbackground": true,
            "ticks": "",
            "zerolinecolor": "white"
           },
           "zaxis": {
            "backgroundcolor": "#E5ECF6",
            "gridcolor": "white",
            "gridwidth": 2,
            "linecolor": "white",
            "showbackground": true,
            "ticks": "",
            "zerolinecolor": "white"
           }
          },
          "shapedefaults": {
           "line": {
            "color": "#2a3f5f"
           }
          },
          "ternary": {
           "aaxis": {
            "gridcolor": "white",
            "linecolor": "white",
            "ticks": ""
           },
           "baxis": {
            "gridcolor": "white",
            "linecolor": "white",
            "ticks": ""
           },
           "bgcolor": "#E5ECF6",
           "caxis": {
            "gridcolor": "white",
            "linecolor": "white",
            "ticks": ""
           }
          },
          "title": {
           "x": 0.05
          },
          "xaxis": {
           "automargin": true,
           "gridcolor": "white",
           "linecolor": "white",
           "ticks": "",
           "title": {
            "standoff": 15
           },
           "zerolinecolor": "white",
           "zerolinewidth": 2
          },
          "yaxis": {
           "automargin": true,
           "gridcolor": "white",
           "linecolor": "white",
           "ticks": "",
           "title": {
            "standoff": 15
           },
           "zerolinecolor": "white",
           "zerolinewidth": 2
          }
         }
        },
        "xaxis": {
         "anchor": "y",
         "domain": [
          0,
          1
         ],
         "title": {
          "text": "x"
         }
        },
        "yaxis": {
         "anchor": "x",
         "domain": [
          0,
          1
         ],
         "title": {
          "text": "y"
         }
        }
       }
      }
     },
     "metadata": {},
     "output_type": "display_data"
    }
   ],
   "source": [
    "import plotly.express as px\n",
    "\n",
    "px.line(x=[0, 1, 2], y=[0, 1, 2])"
   ]
  },
  {
   "cell_type": "code",
   "execution_count": null,
   "metadata": {},
   "outputs": [],
   "source": []
  }
 ],
 "metadata": {
  "kernelspec": {
   "display_name": "winky",
   "language": "python",
   "name": "python3"
  },
  "language_info": {
   "codemirror_mode": {
    "name": "ipython",
    "version": 3
   },
   "file_extension": ".py",
   "mimetype": "text/x-python",
   "name": "python",
   "nbconvert_exporter": "python",
   "pygments_lexer": "ipython3",
   "version": "3.9.15"
  },
  "orig_nbformat": 4,
  "vscode": {
   "interpreter": {
    "hash": "f1fd093af6249ab4f310c2e165ea8e9e56cfda02e8b43d3d8542974d633c3305"
   }
  }
 },
 "nbformat": 4,
 "nbformat_minor": 2
}
